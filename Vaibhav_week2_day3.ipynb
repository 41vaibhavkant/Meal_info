{
 "cells": [
  {
   "cell_type": "code",
   "execution_count": 10,
   "id": "37b78328",
   "metadata": {},
   "outputs": [],
   "source": [
    "import pymongo \n",
    "import pprint\n",
    "import warnings\n",
    "from pymongo import MongoClient"
   ]
  },
  {
   "cell_type": "code",
   "execution_count": 11,
   "id": "b95e3391",
   "metadata": {},
   "outputs": [],
   "source": [
    "client=pymongo.MongoClient('localhost',27017)"
   ]
  },
  {
   "cell_type": "code",
   "execution_count": 12,
   "id": "352160b9",
   "metadata": {},
   "outputs": [],
   "source": [
    "database=client[\"MealDetails\"]\n"
   ]
  },
  {
   "cell_type": "code",
   "execution_count": 13,
   "id": "38198859",
   "metadata": {},
   "outputs": [
    {
     "data": {
      "text/plain": [
       "Collection(Database(MongoClient(host=['localhost:27017'], document_class=dict, tz_aware=False, connect=True), 'MealDetails'), 'meal_info')"
      ]
     },
     "execution_count": 13,
     "metadata": {},
     "output_type": "execute_result"
    }
   ],
   "source": [
    "database.create_collection(\"meal_info\")"
   ]
  },
  {
   "cell_type": "code",
   "execution_count": null,
   "id": "66b25ef6",
   "metadata": {},
   "outputs": [],
   "source": [
    "weekly_demand_collection = database.get_collection(\"weekly_demand\")"
   ]
  },
  {
   "cell_type": "code",
   "execution_count": null,
   "id": "118ed596",
   "metadata": {},
   "outputs": [],
   "source": []
  },
  {
   "cell_type": "code",
   "execution_count": 44,
   "id": "386cc757",
   "metadata": {},
   "outputs": [],
   "source": [
    "meal_info=[{\"meal_id\":1885,\"category\":\"Beverages\",\"cuisine\":\"Thai\"},{\"meal_id\":1993,\"category\":\"Beverages\",\"cuisine\":\"Thai\"},{\"meal_id\":2539,\"category\":\"Beverages\",\"cuisine\":\"Thai\"},{\"meal_id\":1248,\"category\":\"Beverages\",\"cuisine\":\"Indian\"},{\"meal_id\":2631,\"category\":\"Beverages\",\"cuisine\":\"Indian\"},{\"meal_id\":1311,\"category\":\"Extras\",\"cuisine\":\"Thai\"},{\"meal_id\":1062,\"category\":\"Beverages\",\"cuisine\":\"Italian\"},{\"meal_id\":1778,\"category\":\"Beverages\",\"cuisine\":\"Italian\"},{\"meal_id\":1803,\"category\":\"Extras\",\"cuisine\":\"Thai\"},{\"meal_id\":1198,\"category\":\"Extras\",\"cuisine\":\"Thai\"},{\"meal_id\":2707,\"category\":\"Beverages\",\"cuisine\":\"Italian\"},{\"meal_id\":1847,\"category\":\"Soup\",\"cuisine\":\"Thai\"},{\"meal_id\":1438,\"category\":\"Soup\",\"cuisine\":\"Thai\"},{\"meal_id\":2494,\"category\":\"Soup\",\"cuisine\":\"Thai\"},{\"meal_id\":2760,\"category\":\"Other Snacks\",\"cuisine\":\"Thai\"},{\"meal_id\":2490,\"category\":\"Salad\",\"cuisine\":\"Italian\"},{\"meal_id\":1109,\"category\":\"Rice Bowl\",\"cuisine\":\"Indian\"},{\"meal_id\":2290,\"category\":\"Rice Bowl\",\"cuisine\":\"Indian\"},{\"meal_id\":1525,\"category\":\"Other Snacks\",\"cuisine\":\"Thai\"},{\"meal_id\":2704,\"category\":\"Other Snacks\",\"cuisine\":\"Thai\"},{\"meal_id\":1878,\"category\":\"Starters\",\"cuisine\":\"Thai\"},{\"meal_id\":2640,\"category\":\"Starters\",\"cuisine\":\"Thai\"},{\"meal_id\":2577,\"category\":\"Starters\",\"cuisine\":\"Thai\"},{\"meal_id\":1754,\"category\":\"Sandwich\",\"cuisine\":\"Italian\"},{\"meal_id\":1971,\"category\":\"Sandwich\",\"cuisine\":\"Italian\"},{\"meal_id\":2306,\"category\":\"Pasta\",\"cuisine\":\"Italian\"},{\"meal_id\":2139,\"category\":\"Beverages\",\"cuisine\":\"Indian\"},{\"meal_id\":2826,\"category\":\"Sandwich\",\"cuisine\":\"Italian\"},{\"meal_id\":2664,\"category\":\"Salad\",\"cuisine\":\"Italian\"},{\"meal_id\":2569,\"category\":\"Salad\",\"cuisine\":\"Italian\"},{\"meal_id\":1230,\"category\":\"Beverages\",\"cuisine\":\"Continental\"},{\"meal_id\":1207,\"category\":\"Beverages\",\"cuisine\":\"Continental\"},{\"meal_id\":2322,\"category\":\"Beverages\",\"cuisine\":\"Continental\"},{\"meal_id\":2492,\"category\":\"Desert\",\"cuisine\":\"Indian\"},{\"meal_id\":1216,\"category\":\"Pasta\",\"cuisine\":\"Italian\"},{\"meal_id\":1727,\"category\":\"Rice Bowl\",\"cuisine\":\"Indian\"},{\"meal_id\":1902,\"category\":\"Biryani\",\"cuisine\":\"Indian\"},{\"meal_id\":1247,\"category\":\"Biryani\",\"cuisine\":\"Indian\"},{\"meal_id\":2304,\"category\":\"Desert\",\"cuisine\":\"Indian\"},{\"meal_id\":1543,\"category\":\"Desert\",\"cuisine\":\"Indian\"},{\"meal_id\":1770,\"category\":\"Biryani\",\"cuisine\":\"Indian\"},{\"meal_id\":2126,\"category\":\"Pasta\",\"cuisine\":\"Italian\"},{\"meal_id\":1558,\"category\":\"Pizza\",\"cuisine\":\"Continental\"},{\"meal_id\":2581,\"category\":\"Pizza\",\"cuisine\":\"Continental\"},{\"meal_id\":1962,\"category\":\"Pizza\",\"cuisine\":\"Continental\"},{\"meal_id\":1571,\"category\":\"Fish\",\"cuisine\":\"Continental\"},{\"meal_id\":2956,\"category\":\"Fish\",\"cuisine\":\"Continental\"},{\"meal_id\":2104,\"category\":\"Fish\",\"cuisine\":\"Continental\"},{\"meal_id\":2444,\"category\":\"Seafood\",\"cuisine\":\"Continental\"},{\"meal_id\":2867,\"category\":\"Seafood\",\"cuisine\":\"Continental\"},{\"meal_id\":1445,\"category\":\"Seafood\",\"cuisine\":\"Continental\"}]"
   ]
  },
  {
   "cell_type": "code",
   "execution_count": 45,
   "id": "bbce7a48",
   "metadata": {},
   "outputs": [
    {
     "data": {
      "text/plain": [
       "<pymongo.results.InsertManyResult at 0x1d6b3af4240>"
      ]
     },
     "execution_count": 45,
     "metadata": {},
     "output_type": "execute_result"
    }
   ],
   "source": [
    "#insert from meal_info\n",
    "\n",
    "collection.insert_many(meal_info)"
   ]
  },
  {
   "cell_type": "code",
   "execution_count": 46,
   "id": "0dbcfa6b",
   "metadata": {},
   "outputs": [],
   "source": [
    "insert_new={'meal_id':1010,'category':\"Seafood\",\"cuisine\":\"italian\"}\n",
    "result=collection.insert_one(insert_new)"
   ]
  },
  {
   "cell_type": "code",
   "execution_count": 47,
   "id": "42760558",
   "metadata": {},
   "outputs": [
    {
     "data": {
      "text/plain": [
       "{'_id': ObjectId('60e595bcfcfdd035238ca940'),\n",
       " 'meal_id': 1993,\n",
       " 'category': 'Beverages',\n",
       " 'cuisine': 'Thai'}"
      ]
     },
     "execution_count": 47,
     "metadata": {},
     "output_type": "execute_result"
    }
   ],
   "source": [
    "collection.find_one({'meal_id':1993})"
   ]
  },
  {
   "cell_type": "code",
   "execution_count": 48,
   "id": "7a2fd162",
   "metadata": {},
   "outputs": [
    {
     "name": "stdout",
     "output_type": "stream",
     "text": [
      "{'_id': ObjectId('60e595bcfcfdd035238ca93f'), 'meal_id': 1885, 'category': 'Beverages', 'cuisine': 'Thai'}\n",
      "{'_id': ObjectId('60e595bcfcfdd035238ca940'), 'meal_id': 1993, 'category': 'Beverages', 'cuisine': 'Thai'}\n",
      "{'_id': ObjectId('60e595bcfcfdd035238ca941'), 'meal_id': 2539, 'category': 'Beverages', 'cuisine': 'Thai'}\n",
      "{'_id': ObjectId('60e595bcfcfdd035238ca942'), 'meal_id': 1248, 'category': 'Beverages', 'cuisine': 'Indian'}\n"
     ]
    }
   ],
   "source": [
    "for meal_info in collection.find().limit(4):\n",
    "   print(meal_info)"
   ]
  },
  {
   "cell_type": "code",
   "execution_count": 49,
   "id": "9f7e78c3",
   "metadata": {},
   "outputs": [
    {
     "data": {
      "text/plain": [
       "<pymongo.cursor.Cursor at 0x1d6b4200220>"
      ]
     },
     "execution_count": 49,
     "metadata": {},
     "output_type": "execute_result"
    }
   ],
   "source": [
    "collection.find()"
   ]
  },
  {
   "cell_type": "code",
   "execution_count": 50,
   "id": "528e4f8b",
   "metadata": {
    "scrolled": false
   },
   "outputs": [
    {
     "name": "stdout",
     "output_type": "stream",
     "text": [
      "{'_id': ObjectId('60e595bcfcfdd035238ca93f'), 'meal_id': 1885, 'category': 'Beverages', 'cuisine': 'Thai'}\n",
      "{'_id': ObjectId('60e595bcfcfdd035238ca940'), 'meal_id': 1993, 'category': 'Beverages', 'cuisine': 'Thai'}\n",
      "{'_id': ObjectId('60e595bcfcfdd035238ca941'), 'meal_id': 2539, 'category': 'Beverages', 'cuisine': 'Thai'}\n",
      "{'_id': ObjectId('60e595bcfcfdd035238ca942'), 'meal_id': 1248, 'category': 'Beverages', 'cuisine': 'Indian'}\n",
      "{'_id': ObjectId('60e595bcfcfdd035238ca943'), 'meal_id': 2631, 'category': 'Beverages', 'cuisine': 'Indian'}\n",
      "{'_id': ObjectId('60e595bcfcfdd035238ca944'), 'meal_id': 1311, 'category': 'Extras', 'cuisine': 'Thai'}\n",
      "{'_id': ObjectId('60e595bcfcfdd035238ca945'), 'meal_id': 1062, 'category': 'Beverages', 'cuisine': 'Italian'}\n",
      "{'_id': ObjectId('60e595bcfcfdd035238ca946'), 'meal_id': 1778, 'category': 'Beverages', 'cuisine': 'Italian'}\n",
      "{'_id': ObjectId('60e595bcfcfdd035238ca947'), 'meal_id': 1803, 'category': 'Extras', 'cuisine': 'Thai'}\n",
      "{'_id': ObjectId('60e595bcfcfdd035238ca948'), 'meal_id': 1198, 'category': 'Extras', 'cuisine': 'Thai'}\n",
      "{'_id': ObjectId('60e595bcfcfdd035238ca949'), 'meal_id': 2707, 'category': 'Beverages', 'cuisine': 'Italian'}\n",
      "{'_id': ObjectId('60e595bcfcfdd035238ca94a'), 'meal_id': 1847, 'category': 'Soup', 'cuisine': 'Thai'}\n",
      "{'_id': ObjectId('60e595bcfcfdd035238ca94b'), 'meal_id': 1438, 'category': 'Soup', 'cuisine': 'Thai'}\n",
      "{'_id': ObjectId('60e595bcfcfdd035238ca94c'), 'meal_id': 2494, 'category': 'Soup', 'cuisine': 'Thai'}\n",
      "{'_id': ObjectId('60e595bcfcfdd035238ca94d'), 'meal_id': 2760, 'category': 'Other Snacks', 'cuisine': 'Thai'}\n",
      "{'_id': ObjectId('60e595bcfcfdd035238ca94e'), 'meal_id': 2490, 'category': 'Salad', 'cuisine': 'Italian'}\n",
      "{'_id': ObjectId('60e595bcfcfdd035238ca94f'), 'meal_id': 1109, 'category': 'Rice Bowl', 'cuisine': 'Indian'}\n",
      "{'_id': ObjectId('60e595bcfcfdd035238ca950'), 'meal_id': 2290, 'category': 'Rice Bowl', 'cuisine': 'Indian'}\n",
      "{'_id': ObjectId('60e595bcfcfdd035238ca951'), 'meal_id': 1525, 'category': 'Other Snacks', 'cuisine': 'Thai'}\n",
      "{'_id': ObjectId('60e595bcfcfdd035238ca952'), 'meal_id': 2704, 'category': 'Other Snacks', 'cuisine': 'Thai'}\n",
      "{'_id': ObjectId('60e595bcfcfdd035238ca953'), 'meal_id': 1878, 'category': 'Starters', 'cuisine': 'Thai'}\n",
      "{'_id': ObjectId('60e595bcfcfdd035238ca954'), 'meal_id': 2640, 'category': 'Starters', 'cuisine': 'Thai'}\n",
      "{'_id': ObjectId('60e595bcfcfdd035238ca955'), 'meal_id': 2577, 'category': 'Starters', 'cuisine': 'Thai'}\n",
      "{'_id': ObjectId('60e595bcfcfdd035238ca956'), 'meal_id': 1754, 'category': 'Sandwich', 'cuisine': 'Italian'}\n",
      "{'_id': ObjectId('60e595bcfcfdd035238ca957'), 'meal_id': 1971, 'category': 'Sandwich', 'cuisine': 'Italian'}\n",
      "{'_id': ObjectId('60e595bcfcfdd035238ca958'), 'meal_id': 2306, 'category': 'Pasta', 'cuisine': 'Italian'}\n",
      "{'_id': ObjectId('60e595bcfcfdd035238ca959'), 'meal_id': 2139, 'category': 'Beverages', 'cuisine': 'Indian'}\n",
      "{'_id': ObjectId('60e595bcfcfdd035238ca95a'), 'meal_id': 2826, 'category': 'Sandwich', 'cuisine': 'Italian'}\n",
      "{'_id': ObjectId('60e595bcfcfdd035238ca95b'), 'meal_id': 2664, 'category': 'Salad', 'cuisine': 'Italian'}\n",
      "{'_id': ObjectId('60e595bcfcfdd035238ca95c'), 'meal_id': 2569, 'category': 'Salad', 'cuisine': 'Italian'}\n",
      "{'_id': ObjectId('60e595bcfcfdd035238ca95d'), 'meal_id': 1230, 'category': 'Beverages', 'cuisine': 'Continental'}\n",
      "{'_id': ObjectId('60e595bcfcfdd035238ca95e'), 'meal_id': 1207, 'category': 'Beverages', 'cuisine': 'Continental'}\n",
      "{'_id': ObjectId('60e595bcfcfdd035238ca95f'), 'meal_id': 2322, 'category': 'Beverages', 'cuisine': 'Continental'}\n",
      "{'_id': ObjectId('60e595bcfcfdd035238ca960'), 'meal_id': 2492, 'category': 'Desert', 'cuisine': 'Indian'}\n",
      "{'_id': ObjectId('60e595bcfcfdd035238ca961'), 'meal_id': 1216, 'category': 'Pasta', 'cuisine': 'Italian'}\n",
      "{'_id': ObjectId('60e595bcfcfdd035238ca962'), 'meal_id': 1727, 'category': 'Rice Bowl', 'cuisine': 'Indian'}\n",
      "{'_id': ObjectId('60e595bcfcfdd035238ca963'), 'meal_id': 1902, 'category': 'Biryani', 'cuisine': 'Indian'}\n",
      "{'_id': ObjectId('60e595bcfcfdd035238ca964'), 'meal_id': 1247, 'category': 'Biryani', 'cuisine': 'Indian'}\n",
      "{'_id': ObjectId('60e595bcfcfdd035238ca965'), 'meal_id': 2304, 'category': 'Desert', 'cuisine': 'Indian'}\n",
      "{'_id': ObjectId('60e595bcfcfdd035238ca966'), 'meal_id': 1543, 'category': 'Desert', 'cuisine': 'Indian'}\n",
      "{'_id': ObjectId('60e595bcfcfdd035238ca967'), 'meal_id': 1770, 'category': 'Biryani', 'cuisine': 'Indian'}\n",
      "{'_id': ObjectId('60e595bcfcfdd035238ca968'), 'meal_id': 2126, 'category': 'Pasta', 'cuisine': 'Italian'}\n",
      "{'_id': ObjectId('60e595bcfcfdd035238ca969'), 'meal_id': 1558, 'category': 'Pizza', 'cuisine': 'Continental'}\n",
      "{'_id': ObjectId('60e595bcfcfdd035238ca96a'), 'meal_id': 2581, 'category': 'Pizza', 'cuisine': 'Continental'}\n",
      "{'_id': ObjectId('60e595bcfcfdd035238ca96b'), 'meal_id': 1962, 'category': 'Pizza', 'cuisine': 'Continental'}\n",
      "{'_id': ObjectId('60e595bcfcfdd035238ca96c'), 'meal_id': 1571, 'category': 'Fish', 'cuisine': 'Continental'}\n",
      "{'_id': ObjectId('60e595bcfcfdd035238ca96d'), 'meal_id': 2956, 'category': 'Fish', 'cuisine': 'Continental'}\n",
      "{'_id': ObjectId('60e595bcfcfdd035238ca96e'), 'meal_id': 2104, 'category': 'Fish', 'cuisine': 'Continental'}\n",
      "{'_id': ObjectId('60e595bcfcfdd035238ca96f'), 'meal_id': 2444, 'category': 'Seafood', 'cuisine': 'Continental'}\n",
      "{'_id': ObjectId('60e595bcfcfdd035238ca970'), 'meal_id': 2867, 'category': 'Seafood', 'cuisine': 'Continental'}\n",
      "{'_id': ObjectId('60e595bcfcfdd035238ca971'), 'meal_id': 1445, 'category': 'Seafood', 'cuisine': 'Continental'}\n",
      "{'_id': ObjectId('60e5960efcfdd035238ca972'), 'meal_id': 1010, 'category': 'Seafood', 'cuisine': 'italian'}\n"
     ]
    },
    {
     "data": {
      "text/plain": [
       "<pymongo.results.UpdateResult at 0x1d6b41dc640>"
      ]
     },
     "execution_count": 50,
     "metadata": {},
     "output_type": "execute_result"
    }
   ],
   "source": [
    "for meal_info in collection.find():\n",
    "    print(meal_info)\n",
    "collection.update_one({\"meal_id\":\"2539\"},{\"$set\":{\"category\":\"pure-veg\"}})"
   ]
  },
  {
   "cell_type": "code",
   "execution_count": 51,
   "id": "f62352ef",
   "metadata": {},
   "outputs": [
    {
     "name": "stdout",
     "output_type": "stream",
     "text": [
      "Elements in the collections are: \n",
      "{'_id': ObjectId('60e595bcfcfdd035238ca93f'), 'meal_id': 1885, 'category': 'Beverages', 'cuisine': 'Thai'}\n",
      "{'_id': ObjectId('60e595bcfcfdd035238ca940'), 'meal_id': 1993, 'category': 'Beverages', 'cuisine': 'Thai'}\n",
      "{'_id': ObjectId('60e595bcfcfdd035238ca941'), 'meal_id': 2539, 'category': 'Beverages', 'cuisine': 'Thai'}\n",
      "{'_id': ObjectId('60e595bcfcfdd035238ca942'), 'meal_id': 1248, 'category': 'Beverages', 'cuisine': 'Indian'}\n",
      "{'_id': ObjectId('60e595bcfcfdd035238ca943'), 'meal_id': 2631, 'category': 'Beverages', 'cuisine': 'Indian'}\n",
      "{'_id': ObjectId('60e595bcfcfdd035238ca944'), 'meal_id': 1311, 'category': 'Extras', 'cuisine': 'Thai'}\n",
      "{'_id': ObjectId('60e595bcfcfdd035238ca945'), 'meal_id': 1062, 'category': 'Beverages', 'cuisine': 'Italian'}\n",
      "{'_id': ObjectId('60e595bcfcfdd035238ca946'), 'meal_id': 1778, 'category': 'Beverages', 'cuisine': 'Italian'}\n",
      "{'_id': ObjectId('60e595bcfcfdd035238ca947'), 'meal_id': 1803, 'category': 'Extras', 'cuisine': 'Thai'}\n",
      "{'_id': ObjectId('60e595bcfcfdd035238ca948'), 'meal_id': 1198, 'category': 'Extras', 'cuisine': 'Thai'}\n",
      "{'_id': ObjectId('60e595bcfcfdd035238ca949'), 'meal_id': 2707, 'category': 'Beverages', 'cuisine': 'Italian'}\n",
      "{'_id': ObjectId('60e595bcfcfdd035238ca94a'), 'meal_id': 1847, 'category': 'Soup', 'cuisine': 'Thai'}\n",
      "{'_id': ObjectId('60e595bcfcfdd035238ca94b'), 'meal_id': 1438, 'category': 'Soup', 'cuisine': 'Thai'}\n",
      "{'_id': ObjectId('60e595bcfcfdd035238ca94c'), 'meal_id': 2494, 'category': 'Soup', 'cuisine': 'Thai'}\n",
      "{'_id': ObjectId('60e595bcfcfdd035238ca94d'), 'meal_id': 2760, 'category': 'Other Snacks', 'cuisine': 'Thai'}\n",
      "{'_id': ObjectId('60e595bcfcfdd035238ca94e'), 'meal_id': 2490, 'category': 'Salad', 'cuisine': 'Italian'}\n",
      "{'_id': ObjectId('60e595bcfcfdd035238ca94f'), 'meal_id': 1109, 'category': 'Rice Bowl', 'cuisine': 'Indian'}\n",
      "{'_id': ObjectId('60e595bcfcfdd035238ca950'), 'meal_id': 2290, 'category': 'Rice Bowl', 'cuisine': 'Indian'}\n",
      "{'_id': ObjectId('60e595bcfcfdd035238ca951'), 'meal_id': 1525, 'category': 'Other Snacks', 'cuisine': 'Thai'}\n",
      "{'_id': ObjectId('60e595bcfcfdd035238ca952'), 'meal_id': 2704, 'category': 'Other Snacks', 'cuisine': 'Thai'}\n",
      "{'_id': ObjectId('60e595bcfcfdd035238ca953'), 'meal_id': 1878, 'category': 'Starters', 'cuisine': 'Thai'}\n",
      "{'_id': ObjectId('60e595bcfcfdd035238ca954'), 'meal_id': 2640, 'category': 'Starters', 'cuisine': 'Thai'}\n",
      "{'_id': ObjectId('60e595bcfcfdd035238ca955'), 'meal_id': 2577, 'category': 'Starters', 'cuisine': 'Thai'}\n",
      "{'_id': ObjectId('60e595bcfcfdd035238ca956'), 'meal_id': 1754, 'category': 'Sandwich', 'cuisine': 'Italian'}\n",
      "{'_id': ObjectId('60e595bcfcfdd035238ca957'), 'meal_id': 1971, 'category': 'Sandwich', 'cuisine': 'Italian'}\n",
      "{'_id': ObjectId('60e595bcfcfdd035238ca958'), 'meal_id': 2306, 'category': 'Pasta', 'cuisine': 'Italian'}\n",
      "{'_id': ObjectId('60e595bcfcfdd035238ca959'), 'meal_id': 2139, 'category': 'Beverages', 'cuisine': 'Indian'}\n",
      "{'_id': ObjectId('60e595bcfcfdd035238ca95a'), 'meal_id': 2826, 'category': 'Sandwich', 'cuisine': 'Italian'}\n",
      "{'_id': ObjectId('60e595bcfcfdd035238ca95b'), 'meal_id': 2664, 'category': 'Salad', 'cuisine': 'Italian'}\n",
      "{'_id': ObjectId('60e595bcfcfdd035238ca95c'), 'meal_id': 2569, 'category': 'Salad', 'cuisine': 'Italian'}\n",
      "{'_id': ObjectId('60e595bcfcfdd035238ca95d'), 'meal_id': 1230, 'category': 'Beverages', 'cuisine': 'Continental'}\n",
      "{'_id': ObjectId('60e595bcfcfdd035238ca95e'), 'meal_id': 1207, 'category': 'Beverages', 'cuisine': 'Continental'}\n",
      "{'_id': ObjectId('60e595bcfcfdd035238ca95f'), 'meal_id': 2322, 'category': 'Beverages', 'cuisine': 'Continental'}\n",
      "{'_id': ObjectId('60e595bcfcfdd035238ca960'), 'meal_id': 2492, 'category': 'Desert', 'cuisine': 'Indian'}\n",
      "{'_id': ObjectId('60e595bcfcfdd035238ca961'), 'meal_id': 1216, 'category': 'Pasta', 'cuisine': 'Italian'}\n",
      "{'_id': ObjectId('60e595bcfcfdd035238ca962'), 'meal_id': 1727, 'category': 'Rice Bowl', 'cuisine': 'Indian'}\n",
      "{'_id': ObjectId('60e595bcfcfdd035238ca963'), 'meal_id': 1902, 'category': 'Biryani', 'cuisine': 'Indian'}\n",
      "{'_id': ObjectId('60e595bcfcfdd035238ca964'), 'meal_id': 1247, 'category': 'Biryani', 'cuisine': 'Indian'}\n",
      "{'_id': ObjectId('60e595bcfcfdd035238ca965'), 'meal_id': 2304, 'category': 'Desert', 'cuisine': 'Indian'}\n",
      "{'_id': ObjectId('60e595bcfcfdd035238ca966'), 'meal_id': 1543, 'category': 'Desert', 'cuisine': 'Indian'}\n",
      "{'_id': ObjectId('60e595bcfcfdd035238ca967'), 'meal_id': 1770, 'category': 'Biryani', 'cuisine': 'Indian'}\n",
      "{'_id': ObjectId('60e595bcfcfdd035238ca968'), 'meal_id': 2126, 'category': 'Pasta', 'cuisine': 'Italian'}\n",
      "{'_id': ObjectId('60e595bcfcfdd035238ca969'), 'meal_id': 1558, 'category': 'Pizza', 'cuisine': 'Continental'}\n",
      "{'_id': ObjectId('60e595bcfcfdd035238ca96a'), 'meal_id': 2581, 'category': 'Pizza', 'cuisine': 'Continental'}\n",
      "{'_id': ObjectId('60e595bcfcfdd035238ca96b'), 'meal_id': 1962, 'category': 'Pizza', 'cuisine': 'Continental'}\n",
      "{'_id': ObjectId('60e595bcfcfdd035238ca96c'), 'meal_id': 1571, 'category': 'Fish', 'cuisine': 'Continental'}\n",
      "{'_id': ObjectId('60e595bcfcfdd035238ca96d'), 'meal_id': 2956, 'category': 'Fish', 'cuisine': 'Continental'}\n",
      "{'_id': ObjectId('60e595bcfcfdd035238ca96e'), 'meal_id': 2104, 'category': 'Fish', 'cuisine': 'Continental'}\n",
      "{'_id': ObjectId('60e595bcfcfdd035238ca96f'), 'meal_id': 2444, 'category': 'Seafood', 'cuisine': 'Continental'}\n",
      "{'_id': ObjectId('60e595bcfcfdd035238ca970'), 'meal_id': 2867, 'category': 'Seafood', 'cuisine': 'Continental'}\n",
      "{'_id': ObjectId('60e595bcfcfdd035238ca971'), 'meal_id': 1445, 'category': 'Seafood', 'cuisine': 'Continental'}\n",
      "{'_id': ObjectId('60e5960efcfdd035238ca972'), 'meal_id': 1010, 'category': 'Seafood', 'cuisine': 'italian'}\n"
     ]
    },
    {
     "data": {
      "text/plain": [
       "<pymongo.results.UpdateResult at 0x1d6b4216c80>"
      ]
     },
     "execution_count": 51,
     "metadata": {},
     "output_type": "execute_result"
    }
   ],
   "source": [
    "print(\"Elements in the collections are: \")\n",
    "for meal_info in collection.find():\n",
    "    print(meal_info)\n",
    "collection.update_many({},{\"$set\":{\"category\":\"PURE_VEG\"}})\n"
   ]
  },
  {
   "cell_type": "code",
   "execution_count": 52,
   "id": "4766c615",
   "metadata": {},
   "outputs": [],
   "source": [
    "meal_info=[{\"meal_id\": \"1885\", \"category\": \"veg\", \"cuisine\": \"cintinential\"},\n",
    "           {\"meal_id\": \"18277\", \"category\": \"seafood\", \"cuisine\": \"indian\"},\n",
    "           {\"meal_id\": \"16767\", \"category\": \"thai\", \"cuisine\": \"italian\"}]\n"
   ]
  },
  {
   "cell_type": "code",
   "execution_count": 53,
   "id": "85178855",
   "metadata": {},
   "outputs": [],
   "source": [
    "result = collection.insert_many(meal_info)\n"
   ]
  },
  {
   "cell_type": "code",
   "execution_count": 57,
   "id": "61a1c217",
   "metadata": {},
   "outputs": [
    {
     "data": {
      "text/plain": [
       "<pymongo.cursor.Cursor at 0x1d6b4200850>"
      ]
     },
     "execution_count": 57,
     "metadata": {},
     "output_type": "execute_result"
    }
   ],
   "source": [
    "collection.find()"
   ]
  },
  {
   "cell_type": "code",
   "execution_count": 58,
   "id": "fc03cf18",
   "metadata": {},
   "outputs": [
    {
     "name": "stdout",
     "output_type": "stream",
     "text": [
      "{'_id': ObjectId('60e595bcfcfdd035238ca93f'), 'meal_id': 1885, 'category': 'PURE_VEG', 'cuisine': 'Thai'}\n",
      "{'_id': ObjectId('60e595bcfcfdd035238ca940'), 'meal_id': 1993, 'category': 'PURE_VEG', 'cuisine': 'Thai'}\n",
      "{'_id': ObjectId('60e595bcfcfdd035238ca941'), 'meal_id': 2539, 'category': 'PURE_VEG', 'cuisine': 'Thai'}\n",
      "{'_id': ObjectId('60e595bcfcfdd035238ca942'), 'meal_id': 1248, 'category': 'PURE_VEG', 'cuisine': 'Indian'}\n",
      "{'_id': ObjectId('60e595bcfcfdd035238ca943'), 'meal_id': 2631, 'category': 'PURE_VEG', 'cuisine': 'Indian'}\n",
      "{'_id': ObjectId('60e595bcfcfdd035238ca944'), 'meal_id': 1311, 'category': 'PURE_VEG', 'cuisine': 'Thai'}\n",
      "{'_id': ObjectId('60e595bcfcfdd035238ca945'), 'meal_id': 1062, 'category': 'PURE_VEG', 'cuisine': 'Italian'}\n",
      "{'_id': ObjectId('60e595bcfcfdd035238ca946'), 'meal_id': 1778, 'category': 'PURE_VEG', 'cuisine': 'Italian'}\n",
      "{'_id': ObjectId('60e595bcfcfdd035238ca947'), 'meal_id': 1803, 'category': 'PURE_VEG', 'cuisine': 'Thai'}\n",
      "{'_id': ObjectId('60e595bcfcfdd035238ca948'), 'meal_id': 1198, 'category': 'PURE_VEG', 'cuisine': 'Thai'}\n",
      "{'_id': ObjectId('60e595bcfcfdd035238ca949'), 'meal_id': 2707, 'category': 'PURE_VEG', 'cuisine': 'Italian'}\n",
      "{'_id': ObjectId('60e595bcfcfdd035238ca94a'), 'meal_id': 1847, 'category': 'PURE_VEG', 'cuisine': 'Thai'}\n",
      "{'_id': ObjectId('60e595bcfcfdd035238ca94b'), 'meal_id': 1438, 'category': 'PURE_VEG', 'cuisine': 'Thai'}\n",
      "{'_id': ObjectId('60e595bcfcfdd035238ca94c'), 'meal_id': 2494, 'category': 'PURE_VEG', 'cuisine': 'Thai'}\n",
      "{'_id': ObjectId('60e595bcfcfdd035238ca94d'), 'meal_id': 2760, 'category': 'PURE_VEG', 'cuisine': 'Thai'}\n",
      "{'_id': ObjectId('60e595bcfcfdd035238ca94e'), 'meal_id': 2490, 'category': 'PURE_VEG', 'cuisine': 'Italian'}\n",
      "{'_id': ObjectId('60e595bcfcfdd035238ca94f'), 'meal_id': 1109, 'category': 'PURE_VEG', 'cuisine': 'Indian'}\n",
      "{'_id': ObjectId('60e595bcfcfdd035238ca950'), 'meal_id': 2290, 'category': 'PURE_VEG', 'cuisine': 'Indian'}\n",
      "{'_id': ObjectId('60e595bcfcfdd035238ca951'), 'meal_id': 1525, 'category': 'PURE_VEG', 'cuisine': 'Thai'}\n",
      "{'_id': ObjectId('60e595bcfcfdd035238ca952'), 'meal_id': 2704, 'category': 'PURE_VEG', 'cuisine': 'Thai'}\n",
      "{'_id': ObjectId('60e595bcfcfdd035238ca953'), 'meal_id': 1878, 'category': 'PURE_VEG', 'cuisine': 'Thai'}\n",
      "{'_id': ObjectId('60e595bcfcfdd035238ca954'), 'meal_id': 2640, 'category': 'PURE_VEG', 'cuisine': 'Thai'}\n",
      "{'_id': ObjectId('60e595bcfcfdd035238ca955'), 'meal_id': 2577, 'category': 'PURE_VEG', 'cuisine': 'Thai'}\n",
      "{'_id': ObjectId('60e595bcfcfdd035238ca956'), 'meal_id': 1754, 'category': 'PURE_VEG', 'cuisine': 'Italian'}\n",
      "{'_id': ObjectId('60e595bcfcfdd035238ca957'), 'meal_id': 1971, 'category': 'PURE_VEG', 'cuisine': 'Italian'}\n",
      "{'_id': ObjectId('60e595bcfcfdd035238ca958'), 'meal_id': 2306, 'category': 'PURE_VEG', 'cuisine': 'Italian'}\n",
      "{'_id': ObjectId('60e595bcfcfdd035238ca959'), 'meal_id': 2139, 'category': 'PURE_VEG', 'cuisine': 'Indian'}\n",
      "{'_id': ObjectId('60e595bcfcfdd035238ca95a'), 'meal_id': 2826, 'category': 'PURE_VEG', 'cuisine': 'Italian'}\n",
      "{'_id': ObjectId('60e595bcfcfdd035238ca95b'), 'meal_id': 2664, 'category': 'PURE_VEG', 'cuisine': 'Italian'}\n",
      "{'_id': ObjectId('60e595bcfcfdd035238ca95c'), 'meal_id': 2569, 'category': 'PURE_VEG', 'cuisine': 'Italian'}\n",
      "{'_id': ObjectId('60e595bcfcfdd035238ca95d'), 'meal_id': 1230, 'category': 'PURE_VEG', 'cuisine': 'Continental'}\n",
      "{'_id': ObjectId('60e595bcfcfdd035238ca95e'), 'meal_id': 1207, 'category': 'PURE_VEG', 'cuisine': 'Continental'}\n",
      "{'_id': ObjectId('60e595bcfcfdd035238ca95f'), 'meal_id': 2322, 'category': 'PURE_VEG', 'cuisine': 'Continental'}\n",
      "{'_id': ObjectId('60e595bcfcfdd035238ca960'), 'meal_id': 2492, 'category': 'PURE_VEG', 'cuisine': 'Indian'}\n",
      "{'_id': ObjectId('60e595bcfcfdd035238ca961'), 'meal_id': 1216, 'category': 'PURE_VEG', 'cuisine': 'Italian'}\n",
      "{'_id': ObjectId('60e595bcfcfdd035238ca962'), 'meal_id': 1727, 'category': 'PURE_VEG', 'cuisine': 'Indian'}\n",
      "{'_id': ObjectId('60e595bcfcfdd035238ca963'), 'meal_id': 1902, 'category': 'PURE_VEG', 'cuisine': 'Indian'}\n",
      "{'_id': ObjectId('60e595bcfcfdd035238ca964'), 'meal_id': 1247, 'category': 'PURE_VEG', 'cuisine': 'Indian'}\n",
      "{'_id': ObjectId('60e595bcfcfdd035238ca965'), 'meal_id': 2304, 'category': 'PURE_VEG', 'cuisine': 'Indian'}\n",
      "{'_id': ObjectId('60e595bcfcfdd035238ca966'), 'meal_id': 1543, 'category': 'PURE_VEG', 'cuisine': 'Indian'}\n",
      "{'_id': ObjectId('60e595bcfcfdd035238ca967'), 'meal_id': 1770, 'category': 'PURE_VEG', 'cuisine': 'Indian'}\n",
      "{'_id': ObjectId('60e595bcfcfdd035238ca968'), 'meal_id': 2126, 'category': 'PURE_VEG', 'cuisine': 'Italian'}\n",
      "{'_id': ObjectId('60e595bcfcfdd035238ca969'), 'meal_id': 1558, 'category': 'PURE_VEG', 'cuisine': 'Continental'}\n",
      "{'_id': ObjectId('60e595bcfcfdd035238ca96a'), 'meal_id': 2581, 'category': 'PURE_VEG', 'cuisine': 'Continental'}\n",
      "{'_id': ObjectId('60e595bcfcfdd035238ca96b'), 'meal_id': 1962, 'category': 'PURE_VEG', 'cuisine': 'Continental'}\n",
      "{'_id': ObjectId('60e595bcfcfdd035238ca96c'), 'meal_id': 1571, 'category': 'PURE_VEG', 'cuisine': 'Continental'}\n",
      "{'_id': ObjectId('60e595bcfcfdd035238ca96d'), 'meal_id': 2956, 'category': 'PURE_VEG', 'cuisine': 'Continental'}\n",
      "{'_id': ObjectId('60e595bcfcfdd035238ca96e'), 'meal_id': 2104, 'category': 'PURE_VEG', 'cuisine': 'Continental'}\n",
      "{'_id': ObjectId('60e595bcfcfdd035238ca96f'), 'meal_id': 2444, 'category': 'PURE_VEG', 'cuisine': 'Continental'}\n",
      "{'_id': ObjectId('60e595bcfcfdd035238ca970'), 'meal_id': 2867, 'category': 'PURE_VEG', 'cuisine': 'Continental'}\n",
      "{'_id': ObjectId('60e595bcfcfdd035238ca971'), 'meal_id': 1445, 'category': 'PURE_VEG', 'cuisine': 'Continental'}\n",
      "{'_id': ObjectId('60e5960efcfdd035238ca972'), 'meal_id': 1010, 'category': 'PURE_VEG', 'cuisine': 'italian'}\n",
      "{'_id': ObjectId('60e59710fcfdd035238ca973'), 'meal_id': '1885', 'category': 'veg', 'cuisine': 'cintinential'}\n",
      "{'_id': ObjectId('60e59710fcfdd035238ca974'), 'meal_id': '18277', 'category': 'seafood', 'cuisine': 'indian'}\n",
      "{'_id': ObjectId('60e59710fcfdd035238ca975'), 'meal_id': '16767', 'category': 'thai', 'cuisine': 'italian'}\n"
     ]
    }
   ],
   "source": [
    "result=collection.find()\n",
    "for i in result:\n",
    "    print(i)"
   ]
  },
  {
   "cell_type": "code",
   "execution_count": 38,
   "id": "23e37ed2",
   "metadata": {},
   "outputs": [
    {
     "data": {
      "text/plain": [
       "<pymongo.results.DeleteResult at 0x1d6b3a00f80>"
      ]
     },
     "execution_count": 38,
     "metadata": {},
     "output_type": "execute_result"
    }
   ],
   "source": [
    "#deleting one element\n",
    "collection.delete_one({\"meal_id\" : \"1010\"})"
   ]
  },
  {
   "cell_type": "code",
   "execution_count": 59,
   "id": "3114a722",
   "metadata": {},
   "outputs": [
    {
     "data": {
      "text/plain": [
       "<pymongo.cursor.Cursor at 0x1d6b420f310>"
      ]
     },
     "execution_count": 59,
     "metadata": {},
     "output_type": "execute_result"
    }
   ],
   "source": [
    "collection.find({\"meal_id\":1010})"
   ]
  },
  {
   "cell_type": "code",
   "execution_count": null,
   "id": "93cdeb11",
   "metadata": {},
   "outputs": [],
   "source": []
  }
 ],
 "metadata": {
  "kernelspec": {
   "display_name": "Python 3",
   "language": "python",
   "name": "python3"
  },
  "language_info": {
   "codemirror_mode": {
    "name": "ipython",
    "version": 3
   },
   "file_extension": ".py",
   "mimetype": "text/x-python",
   "name": "python",
   "nbconvert_exporter": "python",
   "pygments_lexer": "ipython3",
   "version": "3.8.8"
  }
 },
 "nbformat": 4,
 "nbformat_minor": 5
}
