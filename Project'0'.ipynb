{
 "cells": [
  {
   "cell_type": "code",
   "execution_count": 1,
   "id": "37b78328",
   "metadata": {},
   "outputs": [],
   "source": [
    "import pymongo \n",
    "import pprint\n",
    "import warnings\n",
    "import json\n",
    "from pymongo import MongoClient"
   ]
  },
  {
   "cell_type": "code",
   "execution_count": 2,
   "id": "b95e3391",
   "metadata": {},
   "outputs": [],
   "source": [
    "client=pymongo.MongoClient('localhost',27017)"
   ]
  },
  {
   "cell_type": "code",
   "execution_count": 3,
   "id": "352160b9",
   "metadata": {},
   "outputs": [],
   "source": [
    "database=client[\"MealDetails\"]\n"
   ]
  },
  {
   "cell_type": "code",
   "execution_count": 4,
   "id": "38198859",
   "metadata": {},
   "outputs": [
    {
     "data": {
      "text/plain": [
       "Collection(Database(MongoClient(host=['localhost:27017'], document_class=dict, tz_aware=False, connect=True), 'MealDetails'), 'meal_info')"
      ]
     },
     "execution_count": 4,
     "metadata": {},
     "output_type": "execute_result"
    }
   ],
   "source": [
    "database.create_collection(\"meal_info\")"
   ]
  },
  {
   "cell_type": "code",
   "execution_count": 5,
   "id": "66b25ef6",
   "metadata": {},
   "outputs": [],
   "source": [
    "collection = database.get_collection(\"meal_info\")"
   ]
  },
  {
   "cell_type": "code",
   "execution_count": 6,
   "id": "118ed596",
   "metadata": {},
   "outputs": [],
   "source": [
    "with open(\"meal_info.json\") as f:\n",
    "    file_data = json.load(f)"
   ]
  },
  {
   "cell_type": "code",
   "execution_count": 7,
   "id": "386cc757",
   "metadata": {},
   "outputs": [],
   "source": []
  },
  {
   "cell_type": "code",
   "execution_count": 9,
   "id": "bbce7a48",
   "metadata": {},
   "outputs": [
    {
     "data": {
      "text/plain": [
       "<pymongo.results.InsertManyResult at 0x17d78f88fc0>"
      ]
     },
     "execution_count": 9,
     "metadata": {},
     "output_type": "execute_result"
    }
   ],
   "source": [
    "#insert from meal_info\n",
    "\n",
    "collection.insert_many(file_data)"
   ]
  },
  {
   "cell_type": "code",
   "execution_count": 10,
   "id": "0dbcfa6b",
   "metadata": {},
   "outputs": [],
   "source": [
    "insert_new={'meal_id':1010,'category':\"Seafood\",\"cuisine\":\"italian\"}\n",
    "result=collection.insert_one(insert_new)"
   ]
  },
  {
   "cell_type": "code",
   "execution_count": 11,
   "id": "42760558",
   "metadata": {},
   "outputs": [
    {
     "data": {
      "text/plain": [
       "{'_id': ObjectId('60e7fc5a2acf74c453fc3f5a'),\n",
       " 'meal_id': 1993,\n",
       " 'category': 'Beverages',\n",
       " 'cuisine': 'Thai'}"
      ]
     },
     "execution_count": 11,
     "metadata": {},
     "output_type": "execute_result"
    }
   ],
   "source": [
    "collection.find_one({'meal_id':1993})"
   ]
  },
  {
   "cell_type": "code",
   "execution_count": 12,
   "id": "7a2fd162",
   "metadata": {},
   "outputs": [
    {
     "name": "stdout",
     "output_type": "stream",
     "text": [
      "{'_id': ObjectId('60e7fc5a2acf74c453fc3f59'), 'meal_id': 1885, 'category': 'Beverages', 'cuisine': 'Thai'}\n",
      "{'_id': ObjectId('60e7fc5a2acf74c453fc3f5a'), 'meal_id': 1993, 'category': 'Beverages', 'cuisine': 'Thai'}\n",
      "{'_id': ObjectId('60e7fc5a2acf74c453fc3f5b'), 'meal_id': 2539, 'category': 'Beverages', 'cuisine': 'Thai'}\n",
      "{'_id': ObjectId('60e7fc5a2acf74c453fc3f5c'), 'meal_id': 1248, 'category': 'Beverages', 'cuisine': 'Indian'}\n"
     ]
    }
   ],
   "source": [
    "for file_data in collection.find().limit(4):\n",
    "   print(file_data)"
   ]
  },
  {
   "cell_type": "code",
   "execution_count": 13,
   "id": "9f7e78c3",
   "metadata": {},
   "outputs": [
    {
     "data": {
      "text/plain": [
       "<pymongo.cursor.Cursor at 0x17d795aad60>"
      ]
     },
     "execution_count": 13,
     "metadata": {},
     "output_type": "execute_result"
    }
   ],
   "source": [
    "collection.find()"
   ]
  },
  {
   "cell_type": "code",
   "execution_count": 14,
   "id": "528e4f8b",
   "metadata": {
    "scrolled": false
   },
   "outputs": [
    {
     "name": "stdout",
     "output_type": "stream",
     "text": [
      "{'_id': ObjectId('60e7fc5a2acf74c453fc3f59'), 'meal_id': 1885, 'category': 'Beverages', 'cuisine': 'Thai'}\n",
      "{'_id': ObjectId('60e7fc5a2acf74c453fc3f5a'), 'meal_id': 1993, 'category': 'Beverages', 'cuisine': 'Thai'}\n",
      "{'_id': ObjectId('60e7fc5a2acf74c453fc3f5b'), 'meal_id': 2539, 'category': 'Beverages', 'cuisine': 'Thai'}\n",
      "{'_id': ObjectId('60e7fc5a2acf74c453fc3f5c'), 'meal_id': 1248, 'category': 'Beverages', 'cuisine': 'Indian'}\n",
      "{'_id': ObjectId('60e7fc5a2acf74c453fc3f5d'), 'meal_id': 2631, 'category': 'Beverages', 'cuisine': 'Indian'}\n",
      "{'_id': ObjectId('60e7fc5a2acf74c453fc3f5e'), 'meal_id': 1311, 'category': 'Extras', 'cuisine': 'Thai'}\n",
      "{'_id': ObjectId('60e7fc5a2acf74c453fc3f5f'), 'meal_id': 1062, 'category': 'Beverages', 'cuisine': 'Italian'}\n",
      "{'_id': ObjectId('60e7fc5a2acf74c453fc3f60'), 'meal_id': 1778, 'category': 'Beverages', 'cuisine': 'Italian'}\n",
      "{'_id': ObjectId('60e7fc5a2acf74c453fc3f61'), 'meal_id': 1803, 'category': 'Extras', 'cuisine': 'Thai'}\n",
      "{'_id': ObjectId('60e7fc5a2acf74c453fc3f62'), 'meal_id': 1198, 'category': 'Extras', 'cuisine': 'Thai'}\n",
      "{'_id': ObjectId('60e7fc5a2acf74c453fc3f63'), 'meal_id': 2707, 'category': 'Beverages', 'cuisine': 'Italian'}\n",
      "{'_id': ObjectId('60e7fc5a2acf74c453fc3f64'), 'meal_id': 1847, 'category': 'Soup', 'cuisine': 'Thai'}\n",
      "{'_id': ObjectId('60e7fc5a2acf74c453fc3f65'), 'meal_id': 1438, 'category': 'Soup', 'cuisine': 'Thai'}\n",
      "{'_id': ObjectId('60e7fc5a2acf74c453fc3f66'), 'meal_id': 2494, 'category': 'Soup', 'cuisine': 'Thai'}\n",
      "{'_id': ObjectId('60e7fc5a2acf74c453fc3f67'), 'meal_id': 2760, 'category': 'Other Snacks', 'cuisine': 'Thai'}\n",
      "{'_id': ObjectId('60e7fc5a2acf74c453fc3f68'), 'meal_id': 2490, 'category': 'Salad', 'cuisine': 'Italian'}\n",
      "{'_id': ObjectId('60e7fc5a2acf74c453fc3f69'), 'meal_id': 1109, 'category': 'Rice Bowl', 'cuisine': 'Indian'}\n",
      "{'_id': ObjectId('60e7fc5a2acf74c453fc3f6a'), 'meal_id': 2290, 'category': 'Rice Bowl', 'cuisine': 'Indian'}\n",
      "{'_id': ObjectId('60e7fc5a2acf74c453fc3f6b'), 'meal_id': 1525, 'category': 'Other Snacks', 'cuisine': 'Thai'}\n",
      "{'_id': ObjectId('60e7fc5a2acf74c453fc3f6c'), 'meal_id': 2704, 'category': 'Other Snacks', 'cuisine': 'Thai'}\n",
      "{'_id': ObjectId('60e7fc5a2acf74c453fc3f6d'), 'meal_id': 1878, 'category': 'Starters', 'cuisine': 'Thai'}\n",
      "{'_id': ObjectId('60e7fc5a2acf74c453fc3f6e'), 'meal_id': 2640, 'category': 'Starters', 'cuisine': 'Thai'}\n",
      "{'_id': ObjectId('60e7fc5a2acf74c453fc3f6f'), 'meal_id': 2577, 'category': 'Starters', 'cuisine': 'Thai'}\n",
      "{'_id': ObjectId('60e7fc5a2acf74c453fc3f70'), 'meal_id': 1754, 'category': 'Sandwich', 'cuisine': 'Italian'}\n",
      "{'_id': ObjectId('60e7fc5a2acf74c453fc3f71'), 'meal_id': 1971, 'category': 'Sandwich', 'cuisine': 'Italian'}\n",
      "{'_id': ObjectId('60e7fc5a2acf74c453fc3f72'), 'meal_id': 2306, 'category': 'Pasta', 'cuisine': 'Italian'}\n",
      "{'_id': ObjectId('60e7fc5a2acf74c453fc3f73'), 'meal_id': 2139, 'category': 'Beverages', 'cuisine': 'Indian'}\n",
      "{'_id': ObjectId('60e7fc5a2acf74c453fc3f74'), 'meal_id': 2826, 'category': 'Sandwich', 'cuisine': 'Italian'}\n",
      "{'_id': ObjectId('60e7fc5a2acf74c453fc3f75'), 'meal_id': 2664, 'category': 'Salad', 'cuisine': 'Italian'}\n",
      "{'_id': ObjectId('60e7fc5a2acf74c453fc3f76'), 'meal_id': 2569, 'category': 'Salad', 'cuisine': 'Italian'}\n",
      "{'_id': ObjectId('60e7fc5a2acf74c453fc3f77'), 'meal_id': 1230, 'category': 'Beverages', 'cuisine': 'Continental'}\n",
      "{'_id': ObjectId('60e7fc5a2acf74c453fc3f78'), 'meal_id': 1207, 'category': 'Beverages', 'cuisine': 'Continental'}\n",
      "{'_id': ObjectId('60e7fc5a2acf74c453fc3f79'), 'meal_id': 2322, 'category': 'Beverages', 'cuisine': 'Continental'}\n",
      "{'_id': ObjectId('60e7fc5a2acf74c453fc3f7a'), 'meal_id': 2492, 'category': 'Desert', 'cuisine': 'Indian'}\n",
      "{'_id': ObjectId('60e7fc5a2acf74c453fc3f7b'), 'meal_id': 1216, 'category': 'Pasta', 'cuisine': 'Italian'}\n",
      "{'_id': ObjectId('60e7fc5a2acf74c453fc3f7c'), 'meal_id': 1727, 'category': 'Rice Bowl', 'cuisine': 'Indian'}\n",
      "{'_id': ObjectId('60e7fc5a2acf74c453fc3f7d'), 'meal_id': 1902, 'category': 'Biryani', 'cuisine': 'Indian'}\n",
      "{'_id': ObjectId('60e7fc5a2acf74c453fc3f7e'), 'meal_id': 1247, 'category': 'Biryani', 'cuisine': 'Indian'}\n",
      "{'_id': ObjectId('60e7fc5a2acf74c453fc3f7f'), 'meal_id': 2304, 'category': 'Desert', 'cuisine': 'Indian'}\n",
      "{'_id': ObjectId('60e7fc5a2acf74c453fc3f80'), 'meal_id': 1543, 'category': 'Desert', 'cuisine': 'Indian'}\n",
      "{'_id': ObjectId('60e7fc5a2acf74c453fc3f81'), 'meal_id': 1770, 'category': 'Biryani', 'cuisine': 'Indian'}\n",
      "{'_id': ObjectId('60e7fc5a2acf74c453fc3f82'), 'meal_id': 2126, 'category': 'Pasta', 'cuisine': 'Italian'}\n",
      "{'_id': ObjectId('60e7fc5a2acf74c453fc3f83'), 'meal_id': 1558, 'category': 'Pizza', 'cuisine': 'Continental'}\n",
      "{'_id': ObjectId('60e7fc5a2acf74c453fc3f84'), 'meal_id': 2581, 'category': 'Pizza', 'cuisine': 'Continental'}\n",
      "{'_id': ObjectId('60e7fc5a2acf74c453fc3f85'), 'meal_id': 1962, 'category': 'Pizza', 'cuisine': 'Continental'}\n",
      "{'_id': ObjectId('60e7fc5a2acf74c453fc3f86'), 'meal_id': 1571, 'category': 'Fish', 'cuisine': 'Continental'}\n",
      "{'_id': ObjectId('60e7fc5a2acf74c453fc3f87'), 'meal_id': 2956, 'category': 'Fish', 'cuisine': 'Continental'}\n",
      "{'_id': ObjectId('60e7fc5a2acf74c453fc3f88'), 'meal_id': 2104, 'category': 'Fish', 'cuisine': 'Continental'}\n",
      "{'_id': ObjectId('60e7fc5a2acf74c453fc3f89'), 'meal_id': 2444, 'category': 'Seafood', 'cuisine': 'Continental'}\n",
      "{'_id': ObjectId('60e7fc5a2acf74c453fc3f8a'), 'meal_id': 2867, 'category': 'Seafood', 'cuisine': 'Continental'}\n",
      "{'_id': ObjectId('60e7fc5a2acf74c453fc3f8b'), 'meal_id': 1445, 'category': 'Seafood', 'cuisine': 'Continental'}\n",
      "{'_id': ObjectId('60e7fc5c2acf74c453fc3f8c'), 'meal_id': 1010, 'category': 'Seafood', 'cuisine': 'italian'}\n"
     ]
    },
    {
     "data": {
      "text/plain": [
       "<pymongo.results.UpdateResult at 0x17d7959e480>"
      ]
     },
     "execution_count": 14,
     "metadata": {},
     "output_type": "execute_result"
    }
   ],
   "source": [
    "for meal_info in collection.find():\n",
    "    print(meal_info)\n",
    "collection.update_one({\"meal_id\":\"2539\"},{\"$set\":{\"category\":\"pure-veg\"}})"
   ]
  },
  {
   "cell_type": "code",
   "execution_count": 15,
   "id": "f62352ef",
   "metadata": {},
   "outputs": [
    {
     "name": "stdout",
     "output_type": "stream",
     "text": [
      "Elements in the collections are: \n",
      "{'_id': ObjectId('60e7fc5a2acf74c453fc3f59'), 'meal_id': 1885, 'category': 'Beverages', 'cuisine': 'Thai'}\n",
      "{'_id': ObjectId('60e7fc5a2acf74c453fc3f5a'), 'meal_id': 1993, 'category': 'Beverages', 'cuisine': 'Thai'}\n",
      "{'_id': ObjectId('60e7fc5a2acf74c453fc3f5b'), 'meal_id': 2539, 'category': 'Beverages', 'cuisine': 'Thai'}\n",
      "{'_id': ObjectId('60e7fc5a2acf74c453fc3f5c'), 'meal_id': 1248, 'category': 'Beverages', 'cuisine': 'Indian'}\n",
      "{'_id': ObjectId('60e7fc5a2acf74c453fc3f5d'), 'meal_id': 2631, 'category': 'Beverages', 'cuisine': 'Indian'}\n",
      "{'_id': ObjectId('60e7fc5a2acf74c453fc3f5e'), 'meal_id': 1311, 'category': 'Extras', 'cuisine': 'Thai'}\n",
      "{'_id': ObjectId('60e7fc5a2acf74c453fc3f5f'), 'meal_id': 1062, 'category': 'Beverages', 'cuisine': 'Italian'}\n",
      "{'_id': ObjectId('60e7fc5a2acf74c453fc3f60'), 'meal_id': 1778, 'category': 'Beverages', 'cuisine': 'Italian'}\n",
      "{'_id': ObjectId('60e7fc5a2acf74c453fc3f61'), 'meal_id': 1803, 'category': 'Extras', 'cuisine': 'Thai'}\n",
      "{'_id': ObjectId('60e7fc5a2acf74c453fc3f62'), 'meal_id': 1198, 'category': 'Extras', 'cuisine': 'Thai'}\n",
      "{'_id': ObjectId('60e7fc5a2acf74c453fc3f63'), 'meal_id': 2707, 'category': 'Beverages', 'cuisine': 'Italian'}\n",
      "{'_id': ObjectId('60e7fc5a2acf74c453fc3f64'), 'meal_id': 1847, 'category': 'Soup', 'cuisine': 'Thai'}\n",
      "{'_id': ObjectId('60e7fc5a2acf74c453fc3f65'), 'meal_id': 1438, 'category': 'Soup', 'cuisine': 'Thai'}\n",
      "{'_id': ObjectId('60e7fc5a2acf74c453fc3f66'), 'meal_id': 2494, 'category': 'Soup', 'cuisine': 'Thai'}\n",
      "{'_id': ObjectId('60e7fc5a2acf74c453fc3f67'), 'meal_id': 2760, 'category': 'Other Snacks', 'cuisine': 'Thai'}\n",
      "{'_id': ObjectId('60e7fc5a2acf74c453fc3f68'), 'meal_id': 2490, 'category': 'Salad', 'cuisine': 'Italian'}\n",
      "{'_id': ObjectId('60e7fc5a2acf74c453fc3f69'), 'meal_id': 1109, 'category': 'Rice Bowl', 'cuisine': 'Indian'}\n",
      "{'_id': ObjectId('60e7fc5a2acf74c453fc3f6a'), 'meal_id': 2290, 'category': 'Rice Bowl', 'cuisine': 'Indian'}\n",
      "{'_id': ObjectId('60e7fc5a2acf74c453fc3f6b'), 'meal_id': 1525, 'category': 'Other Snacks', 'cuisine': 'Thai'}\n",
      "{'_id': ObjectId('60e7fc5a2acf74c453fc3f6c'), 'meal_id': 2704, 'category': 'Other Snacks', 'cuisine': 'Thai'}\n",
      "{'_id': ObjectId('60e7fc5a2acf74c453fc3f6d'), 'meal_id': 1878, 'category': 'Starters', 'cuisine': 'Thai'}\n",
      "{'_id': ObjectId('60e7fc5a2acf74c453fc3f6e'), 'meal_id': 2640, 'category': 'Starters', 'cuisine': 'Thai'}\n",
      "{'_id': ObjectId('60e7fc5a2acf74c453fc3f6f'), 'meal_id': 2577, 'category': 'Starters', 'cuisine': 'Thai'}\n",
      "{'_id': ObjectId('60e7fc5a2acf74c453fc3f70'), 'meal_id': 1754, 'category': 'Sandwich', 'cuisine': 'Italian'}\n",
      "{'_id': ObjectId('60e7fc5a2acf74c453fc3f71'), 'meal_id': 1971, 'category': 'Sandwich', 'cuisine': 'Italian'}\n",
      "{'_id': ObjectId('60e7fc5a2acf74c453fc3f72'), 'meal_id': 2306, 'category': 'Pasta', 'cuisine': 'Italian'}\n",
      "{'_id': ObjectId('60e7fc5a2acf74c453fc3f73'), 'meal_id': 2139, 'category': 'Beverages', 'cuisine': 'Indian'}\n",
      "{'_id': ObjectId('60e7fc5a2acf74c453fc3f74'), 'meal_id': 2826, 'category': 'Sandwich', 'cuisine': 'Italian'}\n",
      "{'_id': ObjectId('60e7fc5a2acf74c453fc3f75'), 'meal_id': 2664, 'category': 'Salad', 'cuisine': 'Italian'}\n",
      "{'_id': ObjectId('60e7fc5a2acf74c453fc3f76'), 'meal_id': 2569, 'category': 'Salad', 'cuisine': 'Italian'}\n",
      "{'_id': ObjectId('60e7fc5a2acf74c453fc3f77'), 'meal_id': 1230, 'category': 'Beverages', 'cuisine': 'Continental'}\n",
      "{'_id': ObjectId('60e7fc5a2acf74c453fc3f78'), 'meal_id': 1207, 'category': 'Beverages', 'cuisine': 'Continental'}\n",
      "{'_id': ObjectId('60e7fc5a2acf74c453fc3f79'), 'meal_id': 2322, 'category': 'Beverages', 'cuisine': 'Continental'}\n",
      "{'_id': ObjectId('60e7fc5a2acf74c453fc3f7a'), 'meal_id': 2492, 'category': 'Desert', 'cuisine': 'Indian'}\n",
      "{'_id': ObjectId('60e7fc5a2acf74c453fc3f7b'), 'meal_id': 1216, 'category': 'Pasta', 'cuisine': 'Italian'}\n",
      "{'_id': ObjectId('60e7fc5a2acf74c453fc3f7c'), 'meal_id': 1727, 'category': 'Rice Bowl', 'cuisine': 'Indian'}\n",
      "{'_id': ObjectId('60e7fc5a2acf74c453fc3f7d'), 'meal_id': 1902, 'category': 'Biryani', 'cuisine': 'Indian'}\n",
      "{'_id': ObjectId('60e7fc5a2acf74c453fc3f7e'), 'meal_id': 1247, 'category': 'Biryani', 'cuisine': 'Indian'}\n",
      "{'_id': ObjectId('60e7fc5a2acf74c453fc3f7f'), 'meal_id': 2304, 'category': 'Desert', 'cuisine': 'Indian'}\n",
      "{'_id': ObjectId('60e7fc5a2acf74c453fc3f80'), 'meal_id': 1543, 'category': 'Desert', 'cuisine': 'Indian'}\n",
      "{'_id': ObjectId('60e7fc5a2acf74c453fc3f81'), 'meal_id': 1770, 'category': 'Biryani', 'cuisine': 'Indian'}\n",
      "{'_id': ObjectId('60e7fc5a2acf74c453fc3f82'), 'meal_id': 2126, 'category': 'Pasta', 'cuisine': 'Italian'}\n",
      "{'_id': ObjectId('60e7fc5a2acf74c453fc3f83'), 'meal_id': 1558, 'category': 'Pizza', 'cuisine': 'Continental'}\n",
      "{'_id': ObjectId('60e7fc5a2acf74c453fc3f84'), 'meal_id': 2581, 'category': 'Pizza', 'cuisine': 'Continental'}\n",
      "{'_id': ObjectId('60e7fc5a2acf74c453fc3f85'), 'meal_id': 1962, 'category': 'Pizza', 'cuisine': 'Continental'}\n",
      "{'_id': ObjectId('60e7fc5a2acf74c453fc3f86'), 'meal_id': 1571, 'category': 'Fish', 'cuisine': 'Continental'}\n",
      "{'_id': ObjectId('60e7fc5a2acf74c453fc3f87'), 'meal_id': 2956, 'category': 'Fish', 'cuisine': 'Continental'}\n",
      "{'_id': ObjectId('60e7fc5a2acf74c453fc3f88'), 'meal_id': 2104, 'category': 'Fish', 'cuisine': 'Continental'}\n",
      "{'_id': ObjectId('60e7fc5a2acf74c453fc3f89'), 'meal_id': 2444, 'category': 'Seafood', 'cuisine': 'Continental'}\n",
      "{'_id': ObjectId('60e7fc5a2acf74c453fc3f8a'), 'meal_id': 2867, 'category': 'Seafood', 'cuisine': 'Continental'}\n",
      "{'_id': ObjectId('60e7fc5a2acf74c453fc3f8b'), 'meal_id': 1445, 'category': 'Seafood', 'cuisine': 'Continental'}\n",
      "{'_id': ObjectId('60e7fc5c2acf74c453fc3f8c'), 'meal_id': 1010, 'category': 'Seafood', 'cuisine': 'italian'}\n"
     ]
    },
    {
     "data": {
      "text/plain": [
       "<pymongo.results.UpdateResult at 0x17d795b1640>"
      ]
     },
     "execution_count": 15,
     "metadata": {},
     "output_type": "execute_result"
    }
   ],
   "source": [
    "print(\"Elements in the collections are: \")\n",
    "for meal_info in collection.find():\n",
    "    print(meal_info)\n",
    "collection.update_many({},{\"$set\":{\"category\":\"PURE_VEG\"}})\n"
   ]
  },
  {
   "cell_type": "code",
   "execution_count": 16,
   "id": "4766c615",
   "metadata": {},
   "outputs": [],
   "source": [
    "meal_info=[{\"meal_id\": \"1885\", \"category\": \"veg\", \"cuisine\": \"cintinential\"},\n",
    "           {\"meal_id\": \"18277\", \"category\": \"seafood\", \"cuisine\": \"indian\"},\n",
    "           {\"meal_id\": \"16767\", \"category\": \"thai\", \"cuisine\": \"italian\"}]\n"
   ]
  },
  {
   "cell_type": "code",
   "execution_count": 17,
   "id": "85178855",
   "metadata": {},
   "outputs": [],
   "source": [
    "result = collection.insert_many(meal_info)\n"
   ]
  },
  {
   "cell_type": "code",
   "execution_count": 18,
   "id": "61a1c217",
   "metadata": {},
   "outputs": [
    {
     "data": {
      "text/plain": [
       "<pymongo.cursor.Cursor at 0x17d795983a0>"
      ]
     },
     "execution_count": 18,
     "metadata": {},
     "output_type": "execute_result"
    }
   ],
   "source": [
    "collection.find()"
   ]
  },
  {
   "cell_type": "code",
   "execution_count": 19,
   "id": "fc03cf18",
   "metadata": {},
   "outputs": [
    {
     "name": "stdout",
     "output_type": "stream",
     "text": [
      "{'_id': ObjectId('60e7fc5a2acf74c453fc3f59'), 'meal_id': 1885, 'category': 'PURE_VEG', 'cuisine': 'Thai'}\n",
      "{'_id': ObjectId('60e7fc5a2acf74c453fc3f5a'), 'meal_id': 1993, 'category': 'PURE_VEG', 'cuisine': 'Thai'}\n",
      "{'_id': ObjectId('60e7fc5a2acf74c453fc3f5b'), 'meal_id': 2539, 'category': 'PURE_VEG', 'cuisine': 'Thai'}\n",
      "{'_id': ObjectId('60e7fc5a2acf74c453fc3f5c'), 'meal_id': 1248, 'category': 'PURE_VEG', 'cuisine': 'Indian'}\n",
      "{'_id': ObjectId('60e7fc5a2acf74c453fc3f5d'), 'meal_id': 2631, 'category': 'PURE_VEG', 'cuisine': 'Indian'}\n",
      "{'_id': ObjectId('60e7fc5a2acf74c453fc3f5e'), 'meal_id': 1311, 'category': 'PURE_VEG', 'cuisine': 'Thai'}\n",
      "{'_id': ObjectId('60e7fc5a2acf74c453fc3f5f'), 'meal_id': 1062, 'category': 'PURE_VEG', 'cuisine': 'Italian'}\n",
      "{'_id': ObjectId('60e7fc5a2acf74c453fc3f60'), 'meal_id': 1778, 'category': 'PURE_VEG', 'cuisine': 'Italian'}\n",
      "{'_id': ObjectId('60e7fc5a2acf74c453fc3f61'), 'meal_id': 1803, 'category': 'PURE_VEG', 'cuisine': 'Thai'}\n",
      "{'_id': ObjectId('60e7fc5a2acf74c453fc3f62'), 'meal_id': 1198, 'category': 'PURE_VEG', 'cuisine': 'Thai'}\n",
      "{'_id': ObjectId('60e7fc5a2acf74c453fc3f63'), 'meal_id': 2707, 'category': 'PURE_VEG', 'cuisine': 'Italian'}\n",
      "{'_id': ObjectId('60e7fc5a2acf74c453fc3f64'), 'meal_id': 1847, 'category': 'PURE_VEG', 'cuisine': 'Thai'}\n",
      "{'_id': ObjectId('60e7fc5a2acf74c453fc3f65'), 'meal_id': 1438, 'category': 'PURE_VEG', 'cuisine': 'Thai'}\n",
      "{'_id': ObjectId('60e7fc5a2acf74c453fc3f66'), 'meal_id': 2494, 'category': 'PURE_VEG', 'cuisine': 'Thai'}\n",
      "{'_id': ObjectId('60e7fc5a2acf74c453fc3f67'), 'meal_id': 2760, 'category': 'PURE_VEG', 'cuisine': 'Thai'}\n",
      "{'_id': ObjectId('60e7fc5a2acf74c453fc3f68'), 'meal_id': 2490, 'category': 'PURE_VEG', 'cuisine': 'Italian'}\n",
      "{'_id': ObjectId('60e7fc5a2acf74c453fc3f69'), 'meal_id': 1109, 'category': 'PURE_VEG', 'cuisine': 'Indian'}\n",
      "{'_id': ObjectId('60e7fc5a2acf74c453fc3f6a'), 'meal_id': 2290, 'category': 'PURE_VEG', 'cuisine': 'Indian'}\n",
      "{'_id': ObjectId('60e7fc5a2acf74c453fc3f6b'), 'meal_id': 1525, 'category': 'PURE_VEG', 'cuisine': 'Thai'}\n",
      "{'_id': ObjectId('60e7fc5a2acf74c453fc3f6c'), 'meal_id': 2704, 'category': 'PURE_VEG', 'cuisine': 'Thai'}\n",
      "{'_id': ObjectId('60e7fc5a2acf74c453fc3f6d'), 'meal_id': 1878, 'category': 'PURE_VEG', 'cuisine': 'Thai'}\n",
      "{'_id': ObjectId('60e7fc5a2acf74c453fc3f6e'), 'meal_id': 2640, 'category': 'PURE_VEG', 'cuisine': 'Thai'}\n",
      "{'_id': ObjectId('60e7fc5a2acf74c453fc3f6f'), 'meal_id': 2577, 'category': 'PURE_VEG', 'cuisine': 'Thai'}\n",
      "{'_id': ObjectId('60e7fc5a2acf74c453fc3f70'), 'meal_id': 1754, 'category': 'PURE_VEG', 'cuisine': 'Italian'}\n",
      "{'_id': ObjectId('60e7fc5a2acf74c453fc3f71'), 'meal_id': 1971, 'category': 'PURE_VEG', 'cuisine': 'Italian'}\n",
      "{'_id': ObjectId('60e7fc5a2acf74c453fc3f72'), 'meal_id': 2306, 'category': 'PURE_VEG', 'cuisine': 'Italian'}\n",
      "{'_id': ObjectId('60e7fc5a2acf74c453fc3f73'), 'meal_id': 2139, 'category': 'PURE_VEG', 'cuisine': 'Indian'}\n",
      "{'_id': ObjectId('60e7fc5a2acf74c453fc3f74'), 'meal_id': 2826, 'category': 'PURE_VEG', 'cuisine': 'Italian'}\n",
      "{'_id': ObjectId('60e7fc5a2acf74c453fc3f75'), 'meal_id': 2664, 'category': 'PURE_VEG', 'cuisine': 'Italian'}\n",
      "{'_id': ObjectId('60e7fc5a2acf74c453fc3f76'), 'meal_id': 2569, 'category': 'PURE_VEG', 'cuisine': 'Italian'}\n",
      "{'_id': ObjectId('60e7fc5a2acf74c453fc3f77'), 'meal_id': 1230, 'category': 'PURE_VEG', 'cuisine': 'Continental'}\n",
      "{'_id': ObjectId('60e7fc5a2acf74c453fc3f78'), 'meal_id': 1207, 'category': 'PURE_VEG', 'cuisine': 'Continental'}\n",
      "{'_id': ObjectId('60e7fc5a2acf74c453fc3f79'), 'meal_id': 2322, 'category': 'PURE_VEG', 'cuisine': 'Continental'}\n",
      "{'_id': ObjectId('60e7fc5a2acf74c453fc3f7a'), 'meal_id': 2492, 'category': 'PURE_VEG', 'cuisine': 'Indian'}\n",
      "{'_id': ObjectId('60e7fc5a2acf74c453fc3f7b'), 'meal_id': 1216, 'category': 'PURE_VEG', 'cuisine': 'Italian'}\n",
      "{'_id': ObjectId('60e7fc5a2acf74c453fc3f7c'), 'meal_id': 1727, 'category': 'PURE_VEG', 'cuisine': 'Indian'}\n",
      "{'_id': ObjectId('60e7fc5a2acf74c453fc3f7d'), 'meal_id': 1902, 'category': 'PURE_VEG', 'cuisine': 'Indian'}\n",
      "{'_id': ObjectId('60e7fc5a2acf74c453fc3f7e'), 'meal_id': 1247, 'category': 'PURE_VEG', 'cuisine': 'Indian'}\n",
      "{'_id': ObjectId('60e7fc5a2acf74c453fc3f7f'), 'meal_id': 2304, 'category': 'PURE_VEG', 'cuisine': 'Indian'}\n",
      "{'_id': ObjectId('60e7fc5a2acf74c453fc3f80'), 'meal_id': 1543, 'category': 'PURE_VEG', 'cuisine': 'Indian'}\n",
      "{'_id': ObjectId('60e7fc5a2acf74c453fc3f81'), 'meal_id': 1770, 'category': 'PURE_VEG', 'cuisine': 'Indian'}\n",
      "{'_id': ObjectId('60e7fc5a2acf74c453fc3f82'), 'meal_id': 2126, 'category': 'PURE_VEG', 'cuisine': 'Italian'}\n",
      "{'_id': ObjectId('60e7fc5a2acf74c453fc3f83'), 'meal_id': 1558, 'category': 'PURE_VEG', 'cuisine': 'Continental'}\n",
      "{'_id': ObjectId('60e7fc5a2acf74c453fc3f84'), 'meal_id': 2581, 'category': 'PURE_VEG', 'cuisine': 'Continental'}\n",
      "{'_id': ObjectId('60e7fc5a2acf74c453fc3f85'), 'meal_id': 1962, 'category': 'PURE_VEG', 'cuisine': 'Continental'}\n",
      "{'_id': ObjectId('60e7fc5a2acf74c453fc3f86'), 'meal_id': 1571, 'category': 'PURE_VEG', 'cuisine': 'Continental'}\n",
      "{'_id': ObjectId('60e7fc5a2acf74c453fc3f87'), 'meal_id': 2956, 'category': 'PURE_VEG', 'cuisine': 'Continental'}\n",
      "{'_id': ObjectId('60e7fc5a2acf74c453fc3f88'), 'meal_id': 2104, 'category': 'PURE_VEG', 'cuisine': 'Continental'}\n",
      "{'_id': ObjectId('60e7fc5a2acf74c453fc3f89'), 'meal_id': 2444, 'category': 'PURE_VEG', 'cuisine': 'Continental'}\n",
      "{'_id': ObjectId('60e7fc5a2acf74c453fc3f8a'), 'meal_id': 2867, 'category': 'PURE_VEG', 'cuisine': 'Continental'}\n",
      "{'_id': ObjectId('60e7fc5a2acf74c453fc3f8b'), 'meal_id': 1445, 'category': 'PURE_VEG', 'cuisine': 'Continental'}\n",
      "{'_id': ObjectId('60e7fc5c2acf74c453fc3f8c'), 'meal_id': 1010, 'category': 'PURE_VEG', 'cuisine': 'italian'}\n",
      "{'_id': ObjectId('60e7fc6b2acf74c453fc3f8d'), 'meal_id': '1885', 'category': 'veg', 'cuisine': 'cintinential'}\n",
      "{'_id': ObjectId('60e7fc6b2acf74c453fc3f8e'), 'meal_id': '18277', 'category': 'seafood', 'cuisine': 'indian'}\n",
      "{'_id': ObjectId('60e7fc6b2acf74c453fc3f8f'), 'meal_id': '16767', 'category': 'thai', 'cuisine': 'italian'}\n"
     ]
    }
   ],
   "source": [
    "result=collection.find()\n",
    "for i in result:\n",
    "    print(i)"
   ]
  },
  {
   "cell_type": "code",
   "execution_count": 20,
   "id": "23e37ed2",
   "metadata": {},
   "outputs": [
    {
     "data": {
      "text/plain": [
       "<pymongo.results.DeleteResult at 0x17d795c4ec0>"
      ]
     },
     "execution_count": 20,
     "metadata": {},
     "output_type": "execute_result"
    }
   ],
   "source": [
    "#deleting one element\n",
    "collection.delete_one({\"meal_id\" : \"1010\"})"
   ]
  },
  {
   "cell_type": "code",
   "execution_count": 21,
   "id": "3114a722",
   "metadata": {},
   "outputs": [
    {
     "data": {
      "text/plain": [
       "<pymongo.cursor.Cursor at 0x17d795bed30>"
      ]
     },
     "execution_count": 21,
     "metadata": {},
     "output_type": "execute_result"
    }
   ],
   "source": [
    "collection.find({\"meal_id\":1010})"
   ]
  },
  {
   "cell_type": "code",
   "execution_count": null,
   "id": "93cdeb11",
   "metadata": {},
   "outputs": [],
   "source": []
  }
 ],
 "metadata": {
  "kernelspec": {
   "display_name": "Python 3",
   "language": "python",
   "name": "python3"
  },
  "language_info": {
   "codemirror_mode": {
    "name": "ipython",
    "version": 3
   },
   "file_extension": ".py",
   "mimetype": "text/x-python",
   "name": "python",
   "nbconvert_exporter": "python",
   "pygments_lexer": "ipython3",
   "version": "3.8.8"
  }
 },
 "nbformat": 4,
 "nbformat_minor": 5
}
